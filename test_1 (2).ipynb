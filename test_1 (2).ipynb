{
  "nbformat": 4,
  "nbformat_minor": 0,
  "metadata": {
    "colab": {
      "provenance": []
    },
    "kernelspec": {
      "name": "python3",
      "display_name": "Python 3"
    },
    "language_info": {
      "name": "python"
    }
  },
  "cells": [
    {
      "cell_type": "code",
      "execution_count": null,
      "metadata": {
        "colab": {
          "base_uri": "https://localhost:8080/"
        },
        "id": "wEtIswLx0LnE",
        "outputId": "f7214099-f0d1-4405-e4e7-b9b661c3a39d"
      },
      "outputs": [
        {
          "output_type": "stream",
          "name": "stdout",
          "text": [
            "{'recommendation': 'i want to watch a movie about space A user has rated the movies Star Trek: First Contact (1996), Star Wars (original) (Star Wars) 100% and Starship Troopers (2012) as Bad. Would the user rate Star Warriors (TV) - 25% as Good or Bad? Output only one of Good and Bad Bad Good Good Bad Output one per line Good is for pretty good Bad is'}\n"
          ]
        }
      ],
      "source": [
        "import requests\n",
        "import json\n",
        "\n",
        "url = 'http://34.165.130.181:5000/recommend'\n",
        "headers = {'Content-Type': 'application/json'}\n",
        "data = {'prompt': 'i want to watch a movie about space'}\n",
        "\n",
        "response = requests.post(url, headers=headers, data=json.dumps(data))\n",
        "\n",
        "if response.status_code == 200:\n",
        "\n",
        "    result = response.json()\n",
        "    print(result)\n",
        "else:\n",
        "    print('Error:', response.status_code)"
      ]
    },
    {
      "cell_type": "code",
      "source": [
        "import requests\n",
        "\n",
        "\n",
        "url = 'http://34.125.41.223:5000/recommend'\n",
        "\n",
        "\n",
        "payload = {\n",
        "    'user_id': 1,\n",
        "    'query': 'i want to watch a movie about space'\n",
        "}\n",
        "\n",
        "\n",
        "response = requests.post(url, json=payload)\n",
        "\n",
        "\n",
        "if response.status_code == 200:\n",
        "    print('Recommended Movies:')\n",
        "    for movie in response.json().get('recommended_movies', []):\n",
        "        print(movie)\n",
        "else:\n",
        "    print('Error:', response.status_code, response.text)"
      ],
      "metadata": {
        "colab": {
          "base_uri": "https://localhost:8080/"
        },
        "id": "YD0B5ratVb7Y",
        "outputId": "f3b5d393-7be1-44d6-e1a9-1458f7f0cc26"
      },
      "execution_count": null,
      "outputs": [
        {
          "output_type": "stream",
          "name": "stdout",
          "text": [
            "Recommended Movies:\n",
            "8½\n",
            "The Purple Rose of Cairo\n",
            "It's Such a Beautiful Day\n",
            "Interstellar\n"
          ]
        }
      ]
    },
    {
      "cell_type": "code",
      "source": [
        "import requests\n",
        "import json\n",
        "\n",
        "\n",
        "api1_url = \"http://34.125.41.223:5000/recommend\"\n",
        "api2_url = \"http://34.165.130.181:5000/recommend\"\n",
        "\n",
        "\n",
        "def get_recommendations_from_api1(input_data):\n",
        "    response = requests.post(api1_url, json=input_data)\n",
        "    if response.status_code == 200:\n",
        "        return response.json()\n",
        "    else:\n",
        "        raise Exception(f\"Failed to get recommendations from API 1: {response.status_code}, {response.text}\")\n",
        "\n",
        "\n",
        "def get_recommendations_from_api2(prompt, initial_input):\n",
        "    headers = {'Content-Type': 'application/json'}\n",
        "    data = {'prompt': f\"{initial_input} {prompt}\"}\n",
        "    response = requests.post(api2_url, headers=headers, data=json.dumps(data))\n",
        "    if response.status_code == 200:\n",
        "        return response.json()\n",
        "    else:\n",
        "        raise Exception(f\"Failed to get recommendations from API 2: {response.status_code}, {response.text}\")\n",
        "\n",
        "\n",
        "def main():\n",
        "\n",
        "    initial_input = 'i want to watch a movie about space'\n",
        "    input_data_api1 = {\n",
        "        'user_id': 1,\n",
        "        'query': initial_input\n",
        "    }\n",
        "\n",
        "    try:\n",
        "\n",
        "        recommendations_api1 = get_recommendations_from_api1(input_data_api1)\n",
        "\n",
        "\n",
        "        recommended_movies = recommendations_api1.get('recommended_movies', [])\n",
        "        if not recommended_movies:\n",
        "            raise Exception(\"No recommended movies found from API 1\")\n",
        "\n",
        "\n",
        "        prompt_for_api2 = \", \".join(recommended_movies)\n",
        "\n",
        "\n",
        "        recommendations_api2 = get_recommendations_from_api2(prompt_for_api2, initial_input)\n",
        "\n",
        "\n",
        "        print(\"Final Recommendations from API 2:\")\n",
        "        print(recommendations_api2)\n",
        "    except Exception as e:\n",
        "        print(str(e))\n",
        "\n",
        "if __name__ == \"__main__\":\n",
        "    main()\n"
      ],
      "metadata": {
        "colab": {
          "base_uri": "https://localhost:8080/"
        },
        "id": "UytR_T_iyp6K",
        "outputId": "0072ef61-475e-45ba-ddab-fab862336c0f"
      },
      "execution_count": null,
      "outputs": [
        {
          "output_type": "stream",
          "name": "stdout",
          "text": [
            "Final Recommendations from API 2:\n",
            "{'recommendation': \"i want to watch a movie about space 8½, The Purple Rose of Cairo, It's Such a Beautiful Day, Interstellar Apollo 13, 2001: A Space Odyssey, Abyss, Contact, Star Trek: The Wrath of Khan, Alien, Close Encounters of the Third Kind, Event Horizon, E.T. the Extra-Terrestrial, Empire Strikes\"}\n"
          ]
        }
      ]
    }
  ]
}